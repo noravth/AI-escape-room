{
 "cells": [
  {
   "cell_type": "markdown",
   "metadata": {},
   "source": [
    "# Use SAP HANA Cloud vector engine to find the color code\n",
    "I stored the vector embeddings of city names in a HANA table with each city haaving a corresponding color. Unfortunately I dropped the actual city names, so you will have to use the vector search engine of HANA to find the correct database entry. Once you have an idea which city we are looking for, fill in the city_name parameter and try it out!"
   ]
  },
  {
   "cell_type": "code",
   "execution_count": null,
   "metadata": {},
   "outputs": [],
   "source": [
    "import os\n",
    "import json\n",
    "\n",
    "ROOT_PATH_DIR = os.path.dirname(os.getcwd())\n",
    "AICORE_CONFIG_FILENAME = 'service-key.json'\n",
    "with open(os.path.join(ROOT_PATH_DIR, AICORE_CONFIG_FILENAME), 'r') as config_file:\n",
    "    config_data = json.load(config_file)\n",
    "\n",
    "os.environ[\"AICORE_AUTH_URL\"]=config_data[\"url\"]+\"/oauth/token\"\n",
    "os.environ[\"AICORE_CLIENT_ID\"]=config_data[\"clientid\"]\n",
    "os.environ[\"AICORE_CLIENT_SECRET\"]=config_data[\"clientsecret\"]\n",
    "os.environ[\"AICORE_BASE_URL\"]=config_data[\"serviceurls\"][\"AI_API_URL\"]\n",
    "os.environ[\"AICORE_RESOURCE_GROUP\"]=\"default\""
   ]
  },
  {
   "cell_type": "code",
   "execution_count": null,
   "metadata": {},
   "outputs": [],
   "source": [
    "from gen_ai_hub.proxy.native.openai import embeddings\n",
    "\n",
    "def get_embedding(input_text):\n",
    "    response = embeddings.create(\n",
    "        input=input_text,      \n",
    "        model_name='text-embedding-3-small'\n",
    "    )\n",
    "    embedding = response.data[0].embedding\n",
    "    return embedding\n",
    "\n",
    "# TODO add the city name that we are looking for to get the vector of the city name \n",
    "# which you will then use to do the similarity search in the vector database to find the corresponding color code\n",
    "city_name = ''\n",
    "if city_name:\n",
    "    vector = get_embedding(city_name)\n",
    "    print(vector[1:10])\n",
    "else:\n",
    "    print(\"Please provide a city name.\")"
   ]
  },
  {
   "cell_type": "code",
   "execution_count": null,
   "metadata": {},
   "outputs": [],
   "source": [
    "# Establish a secure connection to an SAP HANA database using hdbcli \n",
    "from hdbcli import dbapi\n",
    "\n",
    "cc = dbapi.connect(\n",
    "    address='b7c3ff95-9e0c-480d-9022-bfaaa268f780.hna0.prod-us10.hanacloud.ondemand.com',\n",
    "    port='443',\n",
    "    user='',\n",
    "    password='',\n",
    "    autocommit=True,\n",
    "    sslValidateCertificate=False\n",
    "    )\n",
    "cc.isconnected()"
   ]
  },
  {
   "cell_type": "code",
   "execution_count": null,
   "metadata": {},
   "outputs": [],
   "source": [
    "# Select the most similar entries from the CITY_NAMES table based on vector similarity\n",
    "# This query performs a vector search using cosine similarity\n",
    "# It returns the top 3 matches, including their ColorCode, and the calculated cosine similarity\n",
    "# Results are ordered by similarity in descending order (most similar first)\n",
    "cursor = cc.cursor()\n",
    "sql_command = f'''SELECT TOP 3 ColorCode,\n",
    "COSINE_SIMILARITY(Vector, TO_REAL_VECTOR('{vector}')) AS \"COS_SIM\"\n",
    "FROM DEV_CHALLENGE_ADMIN.CITY_NAMES\n",
    "ORDER BY \"COS_SIM\" DESC;'''\n",
    "\n",
    "cursor.execute(sql_command)\n",
    "\n",
    "# Fetch column names\n",
    "column_names = [description[0] for description in cursor.description]\n",
    "# Print column names\n",
    "print(\", \".join(column_names))\n",
    "for row in cursor:\n",
    "    print(row)\n",
    "\n",
    "cursor.close()"
   ]
  }
 ],
 "metadata": {
  "kernelspec": {
   "display_name": ".venv",
   "language": "python",
   "name": "python3"
  },
  "language_info": {
   "codemirror_mode": {
    "name": "ipython",
    "version": 3
   },
   "file_extension": ".py",
   "mimetype": "text/x-python",
   "name": "python",
   "nbconvert_exporter": "python",
   "pygments_lexer": "ipython3",
   "version": "3.9.13"
  }
 },
 "nbformat": 4,
 "nbformat_minor": 2
}
